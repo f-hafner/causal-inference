{
 "cells": [
  {
   "cell_type": "markdown",
   "metadata": {},
   "source": [
    "Potential outcomes: theory and application\n",
    "\n",
    "Sources:\n",
    "- causal inference mixtape \n",
    "- Imbens book \n",
    "- Imbens review article JEL\n",
    "- Dehejia/Wahba 2002. https://business.baylor.edu/scott_cunningham/teaching/dehejia-and-wahba-2002.pdf\n",
    "\n",
    "I slightly adjusted the comparisons what made most sense for me in the present context but have not compared them all to the original sources.\n",
    "Specifically, I tried to approximate as closely as possible a real situation where we do not have the experimental controls."
   ]
  },
  {
   "cell_type": "markdown",
   "metadata": {},
   "source": [
    "Context\n",
    "- explain Dehejia/Wahba; Lalonde predecessor"
   ]
  },
  {
   "cell_type": "code",
   "execution_count": 92,
   "metadata": {},
   "outputs": [],
   "source": [
    "import numpy as np \n",
    "import pandas as pd \n",
    "import statsmodels.api as sm \n",
    "import statsmodels.formula.api as smf \n",
    "from itertools import combinations \n",
    "import plotnine as p\n",
    "\n",
    "# read data\n",
    "import ssl\n",
    "ssl._create_default_https_context = ssl._create_unverified_context\n",
    "def read_data(file): \n",
    "    return pd.read_stata(\"https://github.com/scunning1975/mixtape/raw/master/\" + file)\n",
    "\n"
   ]
  },
  {
   "cell_type": "markdown",
   "metadata": {},
   "source": [
    "### Load data "
   ]
  },
  {
   "cell_type": "code",
   "execution_count": 93,
   "metadata": {},
   "outputs": [],
   "source": [
    "nsw_dw = read_data('nsw_mixtape.dta')\n",
    "nsw_dw_cpscontrol = read_data('cps_mixtape.dta')\n",
    "\n",
    "\n"
   ]
  },
  {
   "cell_type": "code",
   "execution_count": 94,
   "metadata": {},
   "outputs": [
    {
     "data": {
      "text/html": [
       "<div>\n",
       "<style scoped>\n",
       "    .dataframe tbody tr th:only-of-type {\n",
       "        vertical-align: middle;\n",
       "    }\n",
       "\n",
       "    .dataframe tbody tr th {\n",
       "        vertical-align: top;\n",
       "    }\n",
       "\n",
       "    .dataframe thead th {\n",
       "        text-align: right;\n",
       "    }\n",
       "</style>\n",
       "<table border=\"1\" class=\"dataframe\">\n",
       "  <thead>\n",
       "    <tr style=\"text-align: right;\">\n",
       "      <th></th>\n",
       "      <th>treat</th>\n",
       "      <th>age</th>\n",
       "      <th>educ</th>\n",
       "      <th>black</th>\n",
       "      <th>hisp</th>\n",
       "      <th>marr</th>\n",
       "      <th>nodegree</th>\n",
       "      <th>re74</th>\n",
       "      <th>re75</th>\n",
       "      <th>re78</th>\n",
       "    </tr>\n",
       "  </thead>\n",
       "  <tbody>\n",
       "    <tr>\n",
       "      <th>count</th>\n",
       "      <td>445.000000</td>\n",
       "      <td>445.000000</td>\n",
       "      <td>445.000000</td>\n",
       "      <td>445.000000</td>\n",
       "      <td>445.00000</td>\n",
       "      <td>445.000000</td>\n",
       "      <td>445.000000</td>\n",
       "      <td>445.000000</td>\n",
       "      <td>445.000000</td>\n",
       "      <td>445.000000</td>\n",
       "    </tr>\n",
       "    <tr>\n",
       "      <th>mean</th>\n",
       "      <td>0.415730</td>\n",
       "      <td>25.370787</td>\n",
       "      <td>10.195505</td>\n",
       "      <td>0.833708</td>\n",
       "      <td>0.08764</td>\n",
       "      <td>0.168539</td>\n",
       "      <td>0.782022</td>\n",
       "      <td>2102.265381</td>\n",
       "      <td>1377.138306</td>\n",
       "      <td>5300.764160</td>\n",
       "    </tr>\n",
       "    <tr>\n",
       "      <th>std</th>\n",
       "      <td>0.493402</td>\n",
       "      <td>7.100282</td>\n",
       "      <td>1.792119</td>\n",
       "      <td>0.372762</td>\n",
       "      <td>0.28309</td>\n",
       "      <td>0.374766</td>\n",
       "      <td>0.413337</td>\n",
       "      <td>5363.582520</td>\n",
       "      <td>3150.960693</td>\n",
       "      <td>6631.491699</td>\n",
       "    </tr>\n",
       "    <tr>\n",
       "      <th>min</th>\n",
       "      <td>0.000000</td>\n",
       "      <td>17.000000</td>\n",
       "      <td>3.000000</td>\n",
       "      <td>0.000000</td>\n",
       "      <td>0.00000</td>\n",
       "      <td>0.000000</td>\n",
       "      <td>0.000000</td>\n",
       "      <td>0.000000</td>\n",
       "      <td>0.000000</td>\n",
       "      <td>0.000000</td>\n",
       "    </tr>\n",
       "    <tr>\n",
       "      <th>25%</th>\n",
       "      <td>0.000000</td>\n",
       "      <td>20.000000</td>\n",
       "      <td>9.000000</td>\n",
       "      <td>1.000000</td>\n",
       "      <td>0.00000</td>\n",
       "      <td>0.000000</td>\n",
       "      <td>1.000000</td>\n",
       "      <td>0.000000</td>\n",
       "      <td>0.000000</td>\n",
       "      <td>0.000000</td>\n",
       "    </tr>\n",
       "    <tr>\n",
       "      <th>50%</th>\n",
       "      <td>0.000000</td>\n",
       "      <td>24.000000</td>\n",
       "      <td>10.000000</td>\n",
       "      <td>1.000000</td>\n",
       "      <td>0.00000</td>\n",
       "      <td>0.000000</td>\n",
       "      <td>1.000000</td>\n",
       "      <td>0.000000</td>\n",
       "      <td>0.000000</td>\n",
       "      <td>3701.812012</td>\n",
       "    </tr>\n",
       "    <tr>\n",
       "      <th>75%</th>\n",
       "      <td>1.000000</td>\n",
       "      <td>28.000000</td>\n",
       "      <td>11.000000</td>\n",
       "      <td>1.000000</td>\n",
       "      <td>0.00000</td>\n",
       "      <td>0.000000</td>\n",
       "      <td>1.000000</td>\n",
       "      <td>824.388916</td>\n",
       "      <td>1220.836060</td>\n",
       "      <td>8124.714844</td>\n",
       "    </tr>\n",
       "    <tr>\n",
       "      <th>max</th>\n",
       "      <td>1.000000</td>\n",
       "      <td>55.000000</td>\n",
       "      <td>16.000000</td>\n",
       "      <td>1.000000</td>\n",
       "      <td>1.00000</td>\n",
       "      <td>1.000000</td>\n",
       "      <td>1.000000</td>\n",
       "      <td>39570.679688</td>\n",
       "      <td>25142.240234</td>\n",
       "      <td>60307.929688</td>\n",
       "    </tr>\n",
       "  </tbody>\n",
       "</table>\n",
       "</div>"
      ],
      "text/plain": [
       "            treat         age        educ       black       hisp        marr  \\\n",
       "count  445.000000  445.000000  445.000000  445.000000  445.00000  445.000000   \n",
       "mean     0.415730   25.370787   10.195505    0.833708    0.08764    0.168539   \n",
       "std      0.493402    7.100282    1.792119    0.372762    0.28309    0.374766   \n",
       "min      0.000000   17.000000    3.000000    0.000000    0.00000    0.000000   \n",
       "25%      0.000000   20.000000    9.000000    1.000000    0.00000    0.000000   \n",
       "50%      0.000000   24.000000   10.000000    1.000000    0.00000    0.000000   \n",
       "75%      1.000000   28.000000   11.000000    1.000000    0.00000    0.000000   \n",
       "max      1.000000   55.000000   16.000000    1.000000    1.00000    1.000000   \n",
       "\n",
       "         nodegree          re74          re75          re78  \n",
       "count  445.000000    445.000000    445.000000    445.000000  \n",
       "mean     0.782022   2102.265381   1377.138306   5300.764160  \n",
       "std      0.413337   5363.582520   3150.960693   6631.491699  \n",
       "min      0.000000      0.000000      0.000000      0.000000  \n",
       "25%      1.000000      0.000000      0.000000      0.000000  \n",
       "50%      1.000000      0.000000      0.000000   3701.812012  \n",
       "75%      1.000000    824.388916   1220.836060   8124.714844  \n",
       "max      1.000000  39570.679688  25142.240234  60307.929688  "
      ]
     },
     "execution_count": 94,
     "metadata": {},
     "output_type": "execute_result"
    }
   ],
   "source": [
    "nsw_dw.describe()"
   ]
  },
  {
   "cell_type": "markdown",
   "metadata": {},
   "source": [
    "Stack together; prepare more variables"
   ]
  },
  {
   "cell_type": "code",
   "execution_count": 95,
   "metadata": {},
   "outputs": [],
   "source": [
    "# for differentiating groups later \n",
    "nsw_dw[\"random\"] = 1 \n",
    "nsw_dw_cpscontrol[\"random\"] = 0\n",
    "\n",
    "nsw_stacked = pd.concat((nsw_dw_cpscontrol, nsw_dw))\n",
    "\n",
    "# unemployment \n",
    "nsw_stacked[[\"unemp74\", \"unemp75\"]] = 0\n",
    "nsw_stacked.loc[nsw_stacked.re74==0, 'unemp74'] = 1\n",
    "nsw_stacked.loc[nsw_stacked.re75==0, 'unemp75'] = 1\n",
    "\n",
    "# rename earnings\n",
    "nsw_stacked = nsw_stacked.rename(columns={\"re74\": \"earn74\", \"re75\": \"earn75\", \"re78\": \"earn78\"})"
   ]
  },
  {
   "cell_type": "code",
   "execution_count": 96,
   "metadata": {},
   "outputs": [
    {
     "data": {
      "text/html": [
       "<div>\n",
       "<style scoped>\n",
       "    .dataframe tbody tr th:only-of-type {\n",
       "        vertical-align: middle;\n",
       "    }\n",
       "\n",
       "    .dataframe tbody tr th {\n",
       "        vertical-align: top;\n",
       "    }\n",
       "\n",
       "    .dataframe thead th {\n",
       "        text-align: right;\n",
       "    }\n",
       "</style>\n",
       "<table border=\"1\" class=\"dataframe\">\n",
       "  <thead>\n",
       "    <tr style=\"text-align: right;\">\n",
       "      <th></th>\n",
       "      <th>treat</th>\n",
       "      <th>age</th>\n",
       "      <th>educ</th>\n",
       "      <th>black</th>\n",
       "      <th>hisp</th>\n",
       "      <th>marr</th>\n",
       "      <th>nodegree</th>\n",
       "      <th>earn74</th>\n",
       "      <th>earn75</th>\n",
       "      <th>earn78</th>\n",
       "      <th>random</th>\n",
       "      <th>unemp74</th>\n",
       "      <th>unemp75</th>\n",
       "    </tr>\n",
       "  </thead>\n",
       "  <tbody>\n",
       "    <tr>\n",
       "      <th>count</th>\n",
       "      <td>16437.000000</td>\n",
       "      <td>16437.000000</td>\n",
       "      <td>16437.000000</td>\n",
       "      <td>16437.000000</td>\n",
       "      <td>16437.000000</td>\n",
       "      <td>16437.000000</td>\n",
       "      <td>16437.000000</td>\n",
       "      <td>16437.000000</td>\n",
       "      <td>16437.000000</td>\n",
       "      <td>16437.000000</td>\n",
       "      <td>16437.000000</td>\n",
       "      <td>16437.000000</td>\n",
       "      <td>16437.000000</td>\n",
       "    </tr>\n",
       "    <tr>\n",
       "      <th>mean</th>\n",
       "      <td>0.011255</td>\n",
       "      <td>33.012592</td>\n",
       "      <td>11.977916</td>\n",
       "      <td>0.094117</td>\n",
       "      <td>0.072458</td>\n",
       "      <td>0.697025</td>\n",
       "      <td>0.308998</td>\n",
       "      <td>13694.237305</td>\n",
       "      <td>13318.517578</td>\n",
       "      <td>14588.224609</td>\n",
       "      <td>0.027073</td>\n",
       "      <td>0.136217</td>\n",
       "      <td>0.123928</td>\n",
       "    </tr>\n",
       "    <tr>\n",
       "      <th>std</th>\n",
       "      <td>0.105495</td>\n",
       "      <td>11.030899</td>\n",
       "      <td>2.862478</td>\n",
       "      <td>0.292000</td>\n",
       "      <td>0.259253</td>\n",
       "      <td>0.459558</td>\n",
       "      <td>0.462094</td>\n",
       "      <td>9675.637695</td>\n",
       "      <td>9372.831055</td>\n",
       "      <td>9702.608398</td>\n",
       "      <td>0.162301</td>\n",
       "      <td>0.343029</td>\n",
       "      <td>0.329509</td>\n",
       "    </tr>\n",
       "    <tr>\n",
       "      <th>min</th>\n",
       "      <td>0.000000</td>\n",
       "      <td>16.000000</td>\n",
       "      <td>0.000000</td>\n",
       "      <td>0.000000</td>\n",
       "      <td>0.000000</td>\n",
       "      <td>0.000000</td>\n",
       "      <td>0.000000</td>\n",
       "      <td>0.000000</td>\n",
       "      <td>0.000000</td>\n",
       "      <td>0.000000</td>\n",
       "      <td>0.000000</td>\n",
       "      <td>0.000000</td>\n",
       "      <td>0.000000</td>\n",
       "    </tr>\n",
       "    <tr>\n",
       "      <th>25%</th>\n",
       "      <td>0.000000</td>\n",
       "      <td>24.000000</td>\n",
       "      <td>11.000000</td>\n",
       "      <td>0.000000</td>\n",
       "      <td>0.000000</td>\n",
       "      <td>0.000000</td>\n",
       "      <td>0.000000</td>\n",
       "      <td>3644.236084</td>\n",
       "      <td>3695.896973</td>\n",
       "      <td>5088.759766</td>\n",
       "      <td>0.000000</td>\n",
       "      <td>0.000000</td>\n",
       "      <td>0.000000</td>\n",
       "    </tr>\n",
       "    <tr>\n",
       "      <th>50%</th>\n",
       "      <td>0.000000</td>\n",
       "      <td>31.000000</td>\n",
       "      <td>12.000000</td>\n",
       "      <td>0.000000</td>\n",
       "      <td>0.000000</td>\n",
       "      <td>1.000000</td>\n",
       "      <td>0.000000</td>\n",
       "      <td>14655.320312</td>\n",
       "      <td>14109.530273</td>\n",
       "      <td>15962.400391</td>\n",
       "      <td>0.000000</td>\n",
       "      <td>0.000000</td>\n",
       "      <td>0.000000</td>\n",
       "    </tr>\n",
       "    <tr>\n",
       "      <th>75%</th>\n",
       "      <td>0.000000</td>\n",
       "      <td>42.000000</td>\n",
       "      <td>13.000000</td>\n",
       "      <td>0.000000</td>\n",
       "      <td>0.000000</td>\n",
       "      <td>1.000000</td>\n",
       "      <td>1.000000</td>\n",
       "      <td>23360.339844</td>\n",
       "      <td>22703.080078</td>\n",
       "      <td>25564.669922</td>\n",
       "      <td>0.000000</td>\n",
       "      <td>0.000000</td>\n",
       "      <td>0.000000</td>\n",
       "    </tr>\n",
       "    <tr>\n",
       "      <th>max</th>\n",
       "      <td>1.000000</td>\n",
       "      <td>55.000000</td>\n",
       "      <td>18.000000</td>\n",
       "      <td>1.000000</td>\n",
       "      <td>1.000000</td>\n",
       "      <td>1.000000</td>\n",
       "      <td>1.000000</td>\n",
       "      <td>39570.679688</td>\n",
       "      <td>25243.550781</td>\n",
       "      <td>60307.929688</td>\n",
       "      <td>1.000000</td>\n",
       "      <td>1.000000</td>\n",
       "      <td>1.000000</td>\n",
       "    </tr>\n",
       "  </tbody>\n",
       "</table>\n",
       "</div>"
      ],
      "text/plain": [
       "              treat           age          educ         black          hisp  \\\n",
       "count  16437.000000  16437.000000  16437.000000  16437.000000  16437.000000   \n",
       "mean       0.011255     33.012592     11.977916      0.094117      0.072458   \n",
       "std        0.105495     11.030899      2.862478      0.292000      0.259253   \n",
       "min        0.000000     16.000000      0.000000      0.000000      0.000000   \n",
       "25%        0.000000     24.000000     11.000000      0.000000      0.000000   \n",
       "50%        0.000000     31.000000     12.000000      0.000000      0.000000   \n",
       "75%        0.000000     42.000000     13.000000      0.000000      0.000000   \n",
       "max        1.000000     55.000000     18.000000      1.000000      1.000000   \n",
       "\n",
       "               marr      nodegree        earn74        earn75        earn78  \\\n",
       "count  16437.000000  16437.000000  16437.000000  16437.000000  16437.000000   \n",
       "mean       0.697025      0.308998  13694.237305  13318.517578  14588.224609   \n",
       "std        0.459558      0.462094   9675.637695   9372.831055   9702.608398   \n",
       "min        0.000000      0.000000      0.000000      0.000000      0.000000   \n",
       "25%        0.000000      0.000000   3644.236084   3695.896973   5088.759766   \n",
       "50%        1.000000      0.000000  14655.320312  14109.530273  15962.400391   \n",
       "75%        1.000000      1.000000  23360.339844  22703.080078  25564.669922   \n",
       "max        1.000000      1.000000  39570.679688  25243.550781  60307.929688   \n",
       "\n",
       "             random       unemp74       unemp75  \n",
       "count  16437.000000  16437.000000  16437.000000  \n",
       "mean       0.027073      0.136217      0.123928  \n",
       "std        0.162301      0.343029      0.329509  \n",
       "min        0.000000      0.000000      0.000000  \n",
       "25%        0.000000      0.000000      0.000000  \n",
       "50%        0.000000      0.000000      0.000000  \n",
       "75%        0.000000      0.000000      0.000000  \n",
       "max        1.000000      1.000000      1.000000  "
      ]
     },
     "execution_count": 96,
     "metadata": {},
     "output_type": "execute_result"
    }
   ],
   "source": [
    "nsw_stacked.describe()"
   ]
  },
  {
   "cell_type": "markdown",
   "metadata": {},
   "source": [
    "### Naive difference in means\n",
    "\n",
    "- we take the treated from `nsw_dw` and the controls from `nsw_dw_cpscontrol` (ignore the controls from the experiment)"
   ]
  },
  {
   "cell_type": "code",
   "execution_count": 97,
   "metadata": {},
   "outputs": [
    {
     "name": "stdout",
     "output_type": "stream",
     "text": [
      "The non-experimental difference in raw means is -8497.52\n"
     ]
    }
   ],
   "source": [
    "mask_treat = (nsw_stacked[\"treat\"] == 1) & (nsw_stacked[\"random\"] == 1)\n",
    "mask_control = (nsw_stacked[\"treat\"] == 0) & (nsw_stacked[\"random\"] == 0)\n",
    "\n",
    "yvar = \"earn78\"\n",
    "y1 = nsw_stacked.loc[mask_treat, yvar].mean()\n",
    "y0 = nsw_stacked.loc[mask_control, yvar].mean()\n",
    "\n",
    "te1 = y1 - y0\n",
    "\n",
    "\n",
    "print(f\"The non-experimental difference in raw means is {te1:.2f}\")"
   ]
  },
  {
   "cell_type": "markdown",
   "metadata": {},
   "source": [
    "This number is the same as in Dehejia/Wahba 2022, table 2, row 2, second-last column"
   ]
  },
  {
   "cell_type": "markdown",
   "metadata": {},
   "source": [
    "### Experimental estimate\n",
    "\n",
    "We *do* have the experimental data, so let's see the estimate here."
   ]
  },
  {
   "cell_type": "code",
   "execution_count": 98,
   "metadata": {},
   "outputs": [
    {
     "name": "stdout",
     "output_type": "stream",
     "text": [
      "The experimental difference in raw means is 1794.34\n"
     ]
    }
   ],
   "source": [
    "mask_treat = (nsw_stacked[\"treat\"] == 1) & (nsw_stacked[\"random\"] == 1)\n",
    "mask_control = (nsw_stacked[\"treat\"] == 0) & (nsw_stacked[\"random\"] == 1)\n",
    "\n",
    "yvar = \"earn78\"\n",
    "y1 = nsw_stacked.loc[mask_treat, yvar].mean()\n",
    "y0 = nsw_stacked.loc[mask_control, yvar].mean()\n",
    "\n",
    "te1 = y1 - y0\n",
    "\n",
    "\n",
    "print(f\"The experimental difference in raw means is {te1:.2f}\")"
   ]
  },
  {
   "cell_type": "markdown",
   "metadata": {},
   "source": [
    "### Sample selection\n",
    "\n",
    "- discuss the formula/decomposition \n",
    "- we *could* run a regression and control for the other observed characteristics. \n",
    "- but for illustration, we won't run any regression and try to adjust for these differences otherwise\n",
    "- discuss balance?"
   ]
  },
  {
   "cell_type": "markdown",
   "metadata": {},
   "source": [
    "### Propensity score\n",
    "\n",
    "- discuss the theorem \n",
    "- for discussing balance here, we'd need to match on closest neighbor "
   ]
  },
  {
   "cell_type": "code",
   "execution_count": 99,
   "metadata": {},
   "outputs": [],
   "source": [
    "# we'll ignore the experimental controls from now on.\n",
    "drop = (nsw_stacked[\"random\"] == 1) & (nsw_stacked[\"treat\"] == 0)\n",
    "nsw_stacked = nsw_stacked.loc[~drop, :]\n",
    "\n",
    "mask_treat = nsw_stacked[\"treat\"] == 1\n",
    "mask_control = nsw_stacked[\"treat\"] == 0\n",
    "\n",
    "N_treat = nsw_stacked.loc[mask_treat, :].shape[0]\n",
    "N_control = nsw_stacked.loc[mask_control, :].shape[0]\n",
    "\n",
    "assert N_treat + N_control == nsw_stacked.shape[0], \"some units got lost\""
   ]
  },
  {
   "cell_type": "code",
   "execution_count": 100,
   "metadata": {},
   "outputs": [],
   "source": [
    "# estimating propensity score\n",
    "logit_nsw = smf.glm(formula=\"\"\"treat ~ age + age**2 + age**3 + educ + educ**2 + \n",
    "                    marr + nodegree + black + hisp + earn74 + earn75 + unemp74 + unemp75 + educ*earn74\"\"\", \n",
    "                    family=sm.families.Binomial(),\n",
    "                   data=nsw_stacked).fit()\n",
    "                  \n",
    "nsw_stacked['pscore'] = logit_nsw.predict(nsw_stacked)"
   ]
  },
  {
   "cell_type": "code",
   "execution_count": 101,
   "metadata": {},
   "outputs": [
    {
     "data": {
      "text/plain": [
       "count    16177.000000\n",
       "mean         0.011436\n",
       "std          0.059767\n",
       "min          0.000005\n",
       "25%          0.000054\n",
       "50%          0.000215\n",
       "75%          0.001770\n",
       "max          0.636450\n",
       "Name: pscore, dtype: float64"
      ]
     },
     "execution_count": 101,
     "metadata": {},
     "output_type": "execute_result"
    }
   ],
   "source": [
    "nsw_stacked[\"pscore\"].describe()"
   ]
  },
  {
   "cell_type": "code",
   "execution_count": 105,
   "metadata": {},
   "outputs": [],
   "source": [
    "import matplotlib.pyplot as plt \n"
   ]
  },
  {
   "cell_type": "code",
   "execution_count": 118,
   "metadata": {},
   "outputs": [],
   "source": [
    "\n",
    "def make_hist(df, input_map, xlabel=\"Value\"):\n",
    "    \"Make a histogram of df, mapping over inputs in `input_map`.\"\n",
    "    plt.figure(figsize=(6, 4))\n",
    "    plt.title(\"Histogram of propensity score\")\n",
    "    plt.xlabel(xlabel)\n",
    "    plt.ylabel(\"Density\")\n",
    "    plt.grid(True)\n",
    "\n",
    "    for label, params in input_map.items():\n",
    "        x = df.loc[params[\"mask\"], \"pscore\"]\n",
    "        # Create histograms for each group\n",
    "        plt.hist(x, bins=20, density=True, alpha=0.7, color=params[\"color\"], label=label)\n",
    "\n",
    "        # Add legend\n",
    "        plt.legend()\n",
    "\n",
    "    # Display the plot\n",
    "    plt.show()\n",
    "\n",
    "\n"
   ]
  },
  {
   "cell_type": "code",
   "execution_count": 120,
   "metadata": {},
   "outputs": [
    {
     "data": {
      "image/png": "[encoded data removed]",
      "text/plain": [
       "<Figure size 600x400 with 1 Axes>"
      ]
     },
     "metadata": {},
     "output_type": "display_data"
    }
   ],
   "source": [
    "plot_map = {\n",
    "    \"treat\": {\n",
    "        \"mask\": mask_treat,\n",
    "        \"color\": \"blue\"\n",
    "    },\n",
    "    \"control\": {\n",
    "        \"mask\": mask_control,\n",
    "        \"color\": \"orange\"\n",
    "    }\n",
    "}\n",
    "\n",
    "make_hist(nsw_stacked, plot_map, \"Propensity score\")"
   ]
  },
  {
   "cell_type": "markdown",
   "metadata": {},
   "source": [
    "So we have this huge imbalance. How can we fix it? "
   ]
  },
  {
   "cell_type": "markdown",
   "metadata": {},
   "source": [
    "do we even need the reweighting? or go straight to nearest-neighbor matching? why is re-weighting useful? \n",
    "\n",
    "also, can we use the ATE from the experiment with the matched estimator to illustrate the difference between the ATE and the ATT? does it not also matter what the population is we are referring to? ie, in the experiment, the ATE are the experimental units. in the matched estimate, the population is the universe of CPS respondents."
   ]
  },
  {
   "cell_type": "markdown",
   "metadata": {},
   "source": [
    "old stuff from Cunningham directly"
   ]
  },
  {
   "cell_type": "code",
   "execution_count": 2,
   "metadata": {},
   "outputs": [
    {
     "name": "stdout",
     "output_type": "stream",
     "text": [
      "The experimental ATE estimate is 1794.34\n"
     ]
    }
   ],
   "source": [
    "\n",
    "nsw_dw = read_data('nsw_mixtape.dta')\n",
    "\n",
    "mean1 = nsw_dw[nsw_dw.treat==1].re78.mean()\n",
    "mean0 = nsw_dw[nsw_dw.treat==0].re78.mean()\n",
    "ate = np.unique(mean1 - mean0)[0]\n",
    "print(\"The experimental ATE estimate is {:.2f}\".format(ate))"
   ]
  },
  {
   "cell_type": "code",
   "execution_count": 3,
   "metadata": {},
   "outputs": [
    {
     "name": "stdout",
     "output_type": "stream",
     "text": [
      "Treatment Effect (non-normalized, all data): -11535.55\n",
      "Treatment Effect (normalized, all data): -7044.80\n",
      "Treatment Effect (non-normalized, trimmed data): 2486.22\n",
      "Treatment Effect (normalized, trimmed data): 423.62\n"
     ]
    }
   ],
   "source": [
    "\n",
    "\n",
    "# Prepare data for logit \n",
    "nsw_dw_cpscontrol = read_data('cps_mixtape.dta')\n",
    "\n",
    "nsw_dw_cpscontrol = pd.concat((nsw_dw_cpscontrol, nsw_dw))\n",
    "nsw_dw_cpscontrol[['u74', 'u75']] = 0\n",
    "nsw_dw_cpscontrol.loc[nsw_dw_cpscontrol.re74==0, 'u74'] = 1\n",
    "nsw_dw_cpscontrol.loc[nsw_dw_cpscontrol.re75==0, 'u75'] = 1\n",
    "# estimating propensity score\n",
    "logit_nsw = smf.glm(formula=\"\"\"treat ~ age + age**2 + age**3 + educ + educ**2 + \n",
    "                    marr + nodegree + black + hisp + re74 + re75 + u74 + u75 + educ*re74\"\"\", \n",
    "                    family=sm.families.Binomial(),\n",
    "                   data=nsw_dw_cpscontrol).fit()\n",
    "                  \n",
    "nsw_dw_cpscontrol['pscore'] = logit_nsw.predict(nsw_dw_cpscontrol)\n",
    "\n",
    "\n",
    "# continuation\n",
    "N = nsw_dw_cpscontrol.shape[0]\n",
    "\n",
    "# Manual with non-normalized weights using all data\n",
    "nsw_dw_cpscontrol = nsw_dw_cpscontrol \n",
    "nsw_dw_cpscontrol['d1'] = nsw_dw_cpscontrol.treat/nsw_dw_cpscontrol.pscore\n",
    "nsw_dw_cpscontrol['d0'] = (1-nsw_dw_cpscontrol.treat)/(1-nsw_dw_cpscontrol.pscore)\n",
    "\n",
    "\n",
    "s1 = nsw_dw_cpscontrol.d1.sum()\n",
    "s0 = nsw_dw_cpscontrol.d0.sum()\n",
    "\n",
    "nsw_dw_cpscontrol['y1'] = nsw_dw_cpscontrol.treat * nsw_dw_cpscontrol.re78 / nsw_dw_cpscontrol.pscore\n",
    "nsw_dw_cpscontrol['y0'] = (1 - nsw_dw_cpscontrol.treat) * nsw_dw_cpscontrol.re78 / (1 - nsw_dw_cpscontrol.pscore)\n",
    "nsw_dw_cpscontrol['ht'] = nsw_dw_cpscontrol['y1'] - nsw_dw_cpscontrol['y0']\n",
    "\n",
    "te_1 = nsw_dw_cpscontrol.ht.mean()\n",
    "\n",
    "print(\"Treatment Effect (non-normalized, all data): {:.2f}\".format(te_1))\n",
    "        \n",
    "\n",
    "nsw_dw_cpscontrol['y1'] = nsw_dw_cpscontrol.treat * nsw_dw_cpscontrol.re78 / nsw_dw_cpscontrol.pscore\n",
    "nsw_dw_cpscontrol['y1'] /= s1/N\n",
    "nsw_dw_cpscontrol['y0'] = (1 - nsw_dw_cpscontrol.treat) * nsw_dw_cpscontrol.re78 / (1 - nsw_dw_cpscontrol.pscore)\n",
    "nsw_dw_cpscontrol['y0'] /= s0/N\n",
    "nsw_dw_cpscontrol['ht'] = nsw_dw_cpscontrol['y1'] - nsw_dw_cpscontrol['y0']\n",
    "\n",
    "te_2 = nsw_dw_cpscontrol.ht.mean()\n",
    "\n",
    "print(\"Treatment Effect (normalized, all data): {:.2f}\".format(te_2))\n",
    "        \n",
    "\n",
    "\n",
    "nsw_dw_trimmed = nsw_dw_cpscontrol.drop(['d1', 'd0', 'y1', 'y0'], axis=1)\n",
    "nsw_dw_trimmed = nsw_dw_trimmed[nsw_dw_trimmed.pscore.between(.1, .9)]\n",
    "N = nsw_dw_trimmed.shape[0]\n",
    "\n",
    "nsw_dw_trimmed['y1'] = nsw_dw_trimmed.treat * nsw_dw_trimmed.re78 / nsw_dw_trimmed.pscore\n",
    "nsw_dw_trimmed['y0'] = (1 - nsw_dw_trimmed.treat) * nsw_dw_trimmed.re78 / (1 - nsw_dw_trimmed.pscore)\n",
    "nsw_dw_trimmed['ht'] = nsw_dw_trimmed['y1'] - nsw_dw_trimmed['y0']\n",
    "\n",
    "te_3 = nsw_dw_trimmed.ht.mean()\n",
    "\n",
    "print(\"Treatment Effect (non-normalized, trimmed data): {:.2f}\".format(te_3))\n",
    "\n",
    "\n",
    "\n",
    "nsw_dw_trimmed['y1'] = nsw_dw_trimmed.treat * nsw_dw_trimmed.re78 / nsw_dw_trimmed.pscore\n",
    "nsw_dw_trimmed['y1'] /= s1/N\n",
    "nsw_dw_trimmed['y0'] = (1 - nsw_dw_trimmed.treat) * nsw_dw_trimmed.re78 / (1 - nsw_dw_trimmed.pscore)\n",
    "nsw_dw_trimmed['y0'] /= s0/N\n",
    "nsw_dw_trimmed['ht'] = nsw_dw_trimmed['y1'] - nsw_dw_trimmed['y0']\n",
    "\n",
    "te_4 = nsw_dw_trimmed.ht.mean()\n",
    "\n",
    "print(\"Treatment Effect (normalized, trimmed data): {:.2f}\".format(te_4))"
   ]
  }
 ],
 "metadata": {
  "kernelspec": {
   "display_name": ".venv",
   "language": "python",
   "name": "python3"
  },
  "language_info": {
   "codemirror_mode": {
    "name": "ipython",
    "version": 3
   },
   "file_extension": ".py",
   "mimetype": "text/x-python",
   "name": "python",
   "nbconvert_exporter": "python",
   "pygments_lexer": "ipython3",
   "version": "3.11.4"
  },
  "orig_nbformat": 4
 },
 "nbformat": 4,
 "nbformat_minor": 2
}
