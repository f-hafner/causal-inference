{
 "cells": [
  {
   "cell_type": "markdown",
   "metadata": {},
   "source": [
    "Potential outcomes: theory and application\n",
    "\n",
    "Sources:\n",
    "- causal inference mixtape \n",
    "- Imbens/Rubin 2015 \n",
    "- Imbens review article JEL\n",
    "- Dehejia/Wahba 2002 (DW2002). https://business.baylor.edu/scott_cunningham/teaching/dehejia-and-wahba-2002.pdf\n",
    "\n",
    "I slightly adjusted the comparisons what made most sense for me in the present context but have not compared them all to the original sources.\n",
    "Specifically, I tried to approximate as closely as possible a real situation where we do not have the experimental controls."
   ]
  },
  {
   "cell_type": "markdown",
   "metadata": {},
   "source": [
    "Context\n",
    "- What is the impact of training the unemployed?\n",
    "- Unemployed workers are not a random sample of the population. Normally we only have observational data (ie, labor market data, information on job training)\n",
    "- Lalonde 1986: conducts experiment among unemployed, and compares to existing methods with observational data\n",
    "- He found that existing methods performed poorly in recovering the true experimental effect from the observational data only\n",
    "- Dehejia/Wahba repeated Lalonde's analysis, but used (at the time) cutting-edge matching methods"
   ]
  },
  {
   "cell_type": "code",
   "execution_count": 751,
   "metadata": {},
   "outputs": [],
   "source": [
    "import numpy as np \n",
    "import pandas as pd \n",
    "import statsmodels.api as sm \n",
    "import statsmodels.formula.api as smf \n",
    "from itertools import combinations \n",
    "import plotnine as p\n",
    "import matplotlib.pyplot as plt \n",
    "\n",
    "\n",
    "import ssl\n",
    "ssl._create_default_https_context = ssl._create_unverified_context\n",
    "\n",
    "from helpers import load_data\n",
    "\n"
   ]
  },
  {
   "cell_type": "markdown",
   "metadata": {},
   "source": [
    "### Load data "
   ]
  },
  {
   "cell_type": "code",
   "execution_count": 752,
   "metadata": {},
   "outputs": [],
   "source": [
    "nsw_stacked = load_data()"
   ]
  },
  {
   "cell_type": "code",
   "execution_count": 753,
   "metadata": {},
   "outputs": [
    {
     "data": {
      "text/html": [
       "<div>\n",
       "<style scoped>\n",
       "    .dataframe tbody tr th:only-of-type {\n",
       "        vertical-align: middle;\n",
       "    }\n",
       "\n",
       "    .dataframe tbody tr th {\n",
       "        vertical-align: top;\n",
       "    }\n",
       "\n",
       "    .dataframe thead th {\n",
       "        text-align: right;\n",
       "    }\n",
       "</style>\n",
       "<table border=\"1\" class=\"dataframe\">\n",
       "  <thead>\n",
       "    <tr style=\"text-align: right;\">\n",
       "      <th></th>\n",
       "      <th>treat</th>\n",
       "      <th>age</th>\n",
       "      <th>educ</th>\n",
       "      <th>black</th>\n",
       "      <th>hisp</th>\n",
       "      <th>marr</th>\n",
       "      <th>nodegree</th>\n",
       "      <th>earn74</th>\n",
       "      <th>earn75</th>\n",
       "      <th>earn78</th>\n",
       "      <th>randomised</th>\n",
       "      <th>unemp74</th>\n",
       "      <th>unemp75</th>\n",
       "    </tr>\n",
       "  </thead>\n",
       "  <tbody>\n",
       "    <tr>\n",
       "      <th>count</th>\n",
       "      <td>16437.000000</td>\n",
       "      <td>16437.000000</td>\n",
       "      <td>16437.000000</td>\n",
       "      <td>16437.000000</td>\n",
       "      <td>16437.000000</td>\n",
       "      <td>16437.000000</td>\n",
       "      <td>16437.000000</td>\n",
       "      <td>16437.000000</td>\n",
       "      <td>16437.000000</td>\n",
       "      <td>16437.000000</td>\n",
       "      <td>16437.000000</td>\n",
       "      <td>16437.000000</td>\n",
       "      <td>16437.000000</td>\n",
       "    </tr>\n",
       "    <tr>\n",
       "      <th>mean</th>\n",
       "      <td>0.011255</td>\n",
       "      <td>33.012592</td>\n",
       "      <td>11.977916</td>\n",
       "      <td>0.094117</td>\n",
       "      <td>0.072458</td>\n",
       "      <td>0.697025</td>\n",
       "      <td>0.308998</td>\n",
       "      <td>13694.237305</td>\n",
       "      <td>13318.517578</td>\n",
       "      <td>14588.224609</td>\n",
       "      <td>0.027073</td>\n",
       "      <td>0.136217</td>\n",
       "      <td>0.123928</td>\n",
       "    </tr>\n",
       "    <tr>\n",
       "      <th>std</th>\n",
       "      <td>0.105495</td>\n",
       "      <td>11.030899</td>\n",
       "      <td>2.862478</td>\n",
       "      <td>0.292000</td>\n",
       "      <td>0.259253</td>\n",
       "      <td>0.459558</td>\n",
       "      <td>0.462094</td>\n",
       "      <td>9675.637695</td>\n",
       "      <td>9372.831055</td>\n",
       "      <td>9702.608398</td>\n",
       "      <td>0.162301</td>\n",
       "      <td>0.343029</td>\n",
       "      <td>0.329509</td>\n",
       "    </tr>\n",
       "    <tr>\n",
       "      <th>min</th>\n",
       "      <td>0.000000</td>\n",
       "      <td>16.000000</td>\n",
       "      <td>0.000000</td>\n",
       "      <td>0.000000</td>\n",
       "      <td>0.000000</td>\n",
       "      <td>0.000000</td>\n",
       "      <td>0.000000</td>\n",
       "      <td>0.000000</td>\n",
       "      <td>0.000000</td>\n",
       "      <td>0.000000</td>\n",
       "      <td>0.000000</td>\n",
       "      <td>0.000000</td>\n",
       "      <td>0.000000</td>\n",
       "    </tr>\n",
       "    <tr>\n",
       "      <th>25%</th>\n",
       "      <td>0.000000</td>\n",
       "      <td>24.000000</td>\n",
       "      <td>11.000000</td>\n",
       "      <td>0.000000</td>\n",
       "      <td>0.000000</td>\n",
       "      <td>0.000000</td>\n",
       "      <td>0.000000</td>\n",
       "      <td>3644.236084</td>\n",
       "      <td>3695.896973</td>\n",
       "      <td>5088.759766</td>\n",
       "      <td>0.000000</td>\n",
       "      <td>0.000000</td>\n",
       "      <td>0.000000</td>\n",
       "    </tr>\n",
       "    <tr>\n",
       "      <th>50%</th>\n",
       "      <td>0.000000</td>\n",
       "      <td>31.000000</td>\n",
       "      <td>12.000000</td>\n",
       "      <td>0.000000</td>\n",
       "      <td>0.000000</td>\n",
       "      <td>1.000000</td>\n",
       "      <td>0.000000</td>\n",
       "      <td>14655.320312</td>\n",
       "      <td>14109.530273</td>\n",
       "      <td>15962.400391</td>\n",
       "      <td>0.000000</td>\n",
       "      <td>0.000000</td>\n",
       "      <td>0.000000</td>\n",
       "    </tr>\n",
       "    <tr>\n",
       "      <th>75%</th>\n",
       "      <td>0.000000</td>\n",
       "      <td>42.000000</td>\n",
       "      <td>13.000000</td>\n",
       "      <td>0.000000</td>\n",
       "      <td>0.000000</td>\n",
       "      <td>1.000000</td>\n",
       "      <td>1.000000</td>\n",
       "      <td>23360.339844</td>\n",
       "      <td>22703.080078</td>\n",
       "      <td>25564.669922</td>\n",
       "      <td>0.000000</td>\n",
       "      <td>0.000000</td>\n",
       "      <td>0.000000</td>\n",
       "    </tr>\n",
       "    <tr>\n",
       "      <th>max</th>\n",
       "      <td>1.000000</td>\n",
       "      <td>55.000000</td>\n",
       "      <td>18.000000</td>\n",
       "      <td>1.000000</td>\n",
       "      <td>1.000000</td>\n",
       "      <td>1.000000</td>\n",
       "      <td>1.000000</td>\n",
       "      <td>39570.679688</td>\n",
       "      <td>25243.550781</td>\n",
       "      <td>60307.929688</td>\n",
       "      <td>1.000000</td>\n",
       "      <td>1.000000</td>\n",
       "      <td>1.000000</td>\n",
       "    </tr>\n",
       "  </tbody>\n",
       "</table>\n",
       "</div>"
      ],
      "text/plain": [
       "              treat           age          educ         black          hisp  \\\n",
       "count  16437.000000  16437.000000  16437.000000  16437.000000  16437.000000   \n",
       "mean       0.011255     33.012592     11.977916      0.094117      0.072458   \n",
       "std        0.105495     11.030899      2.862478      0.292000      0.259253   \n",
       "min        0.000000     16.000000      0.000000      0.000000      0.000000   \n",
       "25%        0.000000     24.000000     11.000000      0.000000      0.000000   \n",
       "50%        0.000000     31.000000     12.000000      0.000000      0.000000   \n",
       "75%        0.000000     42.000000     13.000000      0.000000      0.000000   \n",
       "max        1.000000     55.000000     18.000000      1.000000      1.000000   \n",
       "\n",
       "               marr      nodegree        earn74        earn75        earn78  \\\n",
       "count  16437.000000  16437.000000  16437.000000  16437.000000  16437.000000   \n",
       "mean       0.697025      0.308998  13694.237305  13318.517578  14588.224609   \n",
       "std        0.459558      0.462094   9675.637695   9372.831055   9702.608398   \n",
       "min        0.000000      0.000000      0.000000      0.000000      0.000000   \n",
       "25%        0.000000      0.000000   3644.236084   3695.896973   5088.759766   \n",
       "50%        1.000000      0.000000  14655.320312  14109.530273  15962.400391   \n",
       "75%        1.000000      1.000000  23360.339844  22703.080078  25564.669922   \n",
       "max        1.000000      1.000000  39570.679688  25243.550781  60307.929688   \n",
       "\n",
       "         randomised       unemp74       unemp75  \n",
       "count  16437.000000  16437.000000  16437.000000  \n",
       "mean       0.027073      0.136217      0.123928  \n",
       "std        0.162301      0.343029      0.329509  \n",
       "min        0.000000      0.000000      0.000000  \n",
       "25%        0.000000      0.000000      0.000000  \n",
       "50%        0.000000      0.000000      0.000000  \n",
       "75%        0.000000      0.000000      0.000000  \n",
       "max        1.000000      1.000000      1.000000  "
      ]
     },
     "execution_count": 753,
     "metadata": {},
     "output_type": "execute_result"
    }
   ],
   "source": [
    "nsw_stacked.describe()"
   ]
  },
  {
   "cell_type": "code",
   "execution_count": 754,
   "metadata": {},
   "outputs": [
    {
     "data": {
      "text/html": [
       "<div>\n",
       "<style scoped>\n",
       "    .dataframe tbody tr th:only-of-type {\n",
       "        vertical-align: middle;\n",
       "    }\n",
       "\n",
       "    .dataframe tbody tr th {\n",
       "        vertical-align: top;\n",
       "    }\n",
       "\n",
       "    .dataframe thead th {\n",
       "        text-align: right;\n",
       "    }\n",
       "</style>\n",
       "<table border=\"1\" class=\"dataframe\">\n",
       "  <thead>\n",
       "    <tr style=\"text-align: right;\">\n",
       "      <th>randomised</th>\n",
       "      <th>0</th>\n",
       "      <th>1</th>\n",
       "    </tr>\n",
       "    <tr>\n",
       "      <th>treat</th>\n",
       "      <th></th>\n",
       "      <th></th>\n",
       "    </tr>\n",
       "  </thead>\n",
       "  <tbody>\n",
       "    <tr>\n",
       "      <th>0.0</th>\n",
       "      <td>15992</td>\n",
       "      <td>260</td>\n",
       "    </tr>\n",
       "    <tr>\n",
       "      <th>1.0</th>\n",
       "      <td>0</td>\n",
       "      <td>185</td>\n",
       "    </tr>\n",
       "  </tbody>\n",
       "</table>\n",
       "</div>"
      ],
      "text/plain": [
       "randomised      0    1\n",
       "treat                 \n",
       "0.0         15992  260\n",
       "1.0             0  185"
      ]
     },
     "execution_count": 754,
     "metadata": {},
     "output_type": "execute_result"
    }
   ],
   "source": [
    "pd.crosstab(nsw_stacked[\"treat\"], nsw_stacked[\"randomised\"])"
   ]
  },
  {
   "cell_type": "markdown",
   "metadata": {},
   "source": [
    "### Naive difference in means\n",
    "\n",
    "- we take the treated from `nsw_dw` and the controls from `nsw_dw_cpscontrol` (ignore the controls from the experiment)"
   ]
  },
  {
   "cell_type": "code",
   "execution_count": 733,
   "metadata": {},
   "outputs": [
    {
     "name": "stdout",
     "output_type": "stream",
     "text": [
      "The non-experimental difference in raw means is -8497.52\n"
     ]
    }
   ],
   "source": [
    "mask_treat = (nsw_stacked[\"treat\"] == 1) & (nsw_stacked[\"randomised\"] == 1)\n",
    "mask_control = (nsw_stacked[\"treat\"] == 0) & (nsw_stacked[\"randomised\"] == 0)\n",
    "\n",
    "yvar = \"earn78\"\n",
    "y1 = nsw_stacked.loc[mask_treat, yvar].mean()\n",
    "y0 = nsw_stacked.loc[mask_control, yvar].mean()\n",
    "\n",
    "te1 = y1 - y0\n",
    "\n",
    "\n",
    "print(f\"The non-experimental difference in raw means is {te1:.2f}\")"
   ]
  },
  {
   "cell_type": "markdown",
   "metadata": {},
   "source": [
    "This number is the same as in Dehejia/Wahba 2022, table 2, row 2, second-last column"
   ]
  },
  {
   "cell_type": "markdown",
   "metadata": {},
   "source": [
    "### Experimental estimate\n",
    "\n",
    "We *do* have the experimental data, so let's see the estimate here."
   ]
  },
  {
   "cell_type": "code",
   "execution_count": 734,
   "metadata": {},
   "outputs": [
    {
     "name": "stdout",
     "output_type": "stream",
     "text": [
      "The experimental difference in raw means is 1794.34\n"
     ]
    }
   ],
   "source": [
    "mask_treat = (nsw_stacked[\"treat\"] == 1) & (nsw_stacked[\"randomised\"] == 1)\n",
    "mask_control = (nsw_stacked[\"treat\"] == 0) & (nsw_stacked[\"randomised\"] == 1)\n",
    "\n",
    "yvar = \"earn78\"\n",
    "y1 = nsw_stacked.loc[mask_treat, yvar].mean()\n",
    "y0 = nsw_stacked.loc[mask_control, yvar].mean()\n",
    "\n",
    "te1 = y1 - y0\n",
    "\n",
    "\n",
    "print(f\"The experimental difference in raw means is {te1:.2f}\")"
   ]
  },
  {
   "cell_type": "markdown",
   "metadata": {},
   "source": [
    "### Sample selection\n",
    "\n",
    "- discuss the formula/decomposition \n",
    "- could we just run a regression and control for the other observed characteristics?\n",
    "- yes, but the potential outcome approach has the following benefits:\n",
    "    - it makes us more aware of the required assumptions \n",
    "    - in some cases, regression may heavily interpolate between groups; using the methods discussed here puts some more hurdles that prevent us from blindly doing this\n",
    "- moreover, we can select the covariates $X$ without looking at the outcome $Y$\n",
    "    - this is also the foundation of the recent methods on \"doubly-robust learning\""
   ]
  },
  {
   "cell_type": "markdown",
   "metadata": {},
   "source": [
    "### Propensity score\n",
    "\n",
    "- discuss the theorem \n",
    "- for discussing balance here, we'd need to match on closest neighbor "
   ]
  },
  {
   "cell_type": "code",
   "execution_count": 735,
   "metadata": {},
   "outputs": [],
   "source": [
    "# we'll ignore the experimental controls from now on.\n",
    "drop = (nsw_stacked[\"randomised\"] == 1) & (nsw_stacked[\"treat\"] == 0)\n",
    "nsw_stacked = nsw_stacked.loc[~drop, :].copy()\n",
    "\n",
    "mask_treat = nsw_stacked[\"treat\"] == 1\n",
    "mask_control = nsw_stacked[\"treat\"] == 0\n",
    "\n",
    "N_treat = nsw_stacked.loc[mask_treat, :].shape[0]\n",
    "N_control = nsw_stacked.loc[mask_control, :].shape[0]\n",
    "\n",
    "assert N_treat + N_control == nsw_stacked.shape[0], \"some units got lost\"\n",
    "\n",
    "\n",
    "# nsw_stacked.to_csv(\"mydf.csv\", index=False)"
   ]
  },
  {
   "cell_type": "code",
   "execution_count": 736,
   "metadata": {},
   "outputs": [],
   "source": [
    "# estimating propensity score\n",
    "logit_nsw = smf.glm(formula=\"\"\"treat ~ age + I(age**2) + I(age**3) + educ + I(educ**2) +\n",
    "                    marr + nodegree + black + hisp + earn74 + earn75\n",
    "                    + unemp74 + unemp75 + I(educ*earn74)\"\"\", \n",
    "                    family=sm.families.Binomial(),\n",
    "                   data=nsw_stacked).fit()\n",
    "\n",
    "nsw_stacked['pscore'] = logit_nsw.predict(nsw_stacked)"
   ]
  },
  {
   "cell_type": "code",
   "execution_count": 737,
   "metadata": {},
   "outputs": [
    {
     "name": "stdout",
     "output_type": "stream",
     "text": [
      "           pscore         age    nodegree        earn75\n",
      "count  185.000000  185.000000  185.000000    185.000000\n",
      "mean     0.425357   25.816216    0.708108   1532.055420\n",
      "std      0.307691    7.155019    0.455867   3219.250732\n",
      "min      0.001061   17.000000    0.000000      0.000000\n",
      "25%      0.132217   20.000000    0.000000      0.000000\n",
      "50%      0.400199   25.000000    1.000000      0.000000\n",
      "75%      0.670616   29.000000    1.000000   1817.284058\n",
      "max      0.938455   48.000000    1.000000  25142.240234\n",
      "             pscore           age      nodegree        earn75\n",
      "count  1.599200e+04  15992.000000  15992.000000  15992.000000\n",
      "mean   6.647637e-03     33.225239      0.295835  13650.803711\n",
      "std    4.166721e-02     11.045216      0.456432   9270.403320\n",
      "min    1.176785e-09     16.000000      0.000000      0.000000\n",
      "25%    1.927808e-05     24.000000      0.000000   4398.823242\n",
      "50%    1.187188e-04     31.000000      0.000000  14557.110352\n",
      "75%    9.633719e-04     42.000000      1.000000  22923.736816\n",
      "max    9.239787e-01     55.000000      1.000000  25243.550781\n"
     ]
    }
   ],
   "source": [
    "vars_to_compare = [\"pscore\", \"age\", \"nodegree\", \"earn75\"]\n",
    "print(nsw_stacked.loc[mask_treat, vars_to_compare].describe())\n",
    "print(nsw_stacked.loc[mask_control, vars_to_compare].describe())\n"
   ]
  },
  {
   "cell_type": "markdown",
   "metadata": {},
   "source": [
    "**Comparing propensity scores between treated and control groups**\n",
    "\n",
    "The propensity scores are highly imbalanced, and there are a lot of units in the control group whose propensity score is below the minimum in the treatment group.\n",
    "Since these units will not be contribute information to the estimation (they are not good \"counterfactuals\" because of their low propensity score), we drop them, like Dehejia/Wahba also did.\n",
    "\n",
    "**Others notes: Comparing control group to DW2002**\n",
    "- Same number of observations\n",
    "- For the control group, the mean propensity score differs from DW2002 (table 2, row 2).\n",
    "- But the other 3 variables displayed have the same means.\n",
    "- Thus, somehow the propensity score is misspecified relative to the original paper, but I don't know why.\n",
    "- (But the propensity scores for treatment and controls are the same as in Cunningham's book)"
   ]
  },
  {
   "cell_type": "code",
   "execution_count": 738,
   "metadata": {},
   "outputs": [
    {
     "data": {
      "text/plain": [
       "(16177, 15)"
      ]
     },
     "execution_count": 738,
     "metadata": {},
     "output_type": "execute_result"
    }
   ],
   "source": [
    "nsw_stacked.shape"
   ]
  },
  {
   "cell_type": "code",
   "execution_count": 739,
   "metadata": {},
   "outputs": [
    {
     "data": {
      "text/plain": [
       "(15992, 15)"
      ]
     },
     "metadata": {},
     "output_type": "display_data"
    }
   ],
   "source": [
    "display(nsw_stacked.loc[nsw_stacked[\"treat\"] == 0].shape)"
   ]
  },
  {
   "cell_type": "code",
   "execution_count": 740,
   "metadata": {},
   "outputs": [
    {
     "data": {
      "text/plain": [
       "3856"
      ]
     },
     "metadata": {},
     "output_type": "display_data"
    },
    {
     "data": {
      "text/plain": [
       "12136"
      ]
     },
     "metadata": {},
     "output_type": "display_data"
    }
   ],
   "source": [
    "pscore_threshold = nsw_stacked.loc[mask_treat, \"pscore\"].min()\n",
    "mask_pscore_threshold = nsw_stacked[\"pscore\"] >= pscore_threshold\n",
    "\n",
    "nsw_stacked = nsw_stacked.loc[mask_pscore_threshold, :].copy()\n",
    "\n",
    "# re-define the masks\n",
    "mask_treat = (nsw_stacked[\"treat\"] == 1) \n",
    "mask_control = (nsw_stacked[\"treat\"] == 0)\n",
    "\n",
    "\n",
    "display(sum(mask_control))\n",
    "display(15992 - sum(mask_control)) # this should be 11168 (DW002) or 12611 (DW1999)\n"
   ]
  },
  {
   "cell_type": "code",
   "execution_count": 741,
   "metadata": {},
   "outputs": [],
   "source": [
    "\n",
    "def make_hist(df, input_map, xlabel=\"Value\"):\n",
    "    \"Make a histogram of df, mapping over inputs in `input_map`.\"\n",
    "    plt.figure(figsize=(6, 4))\n",
    "    plt.title(\"Histogram of propensity score\")\n",
    "    plt.xlabel(xlabel)\n",
    "    plt.ylabel(\"Density\")\n",
    "    plt.grid(True)\n",
    "\n",
    "    for label, params in input_map.items():\n",
    "        x = df.loc[params[\"mask\"], \"pscore\"]\n",
    "        # Create histograms for each group\n",
    "        plt.hist(x, bins=20, density=True, alpha=0.7, color=params[\"color\"], label=label)\n",
    "\n",
    "        # Add legend\n",
    "        plt.legend()\n",
    "\n",
    "    # Display the plot\n",
    "    plt.show()\n",
    "\n"
   ]
  },
  {
   "cell_type": "code",
   "execution_count": 742,
   "metadata": {},
   "outputs": [
    {
     "data": {
      "image/png": "[encoded data removed]",
      "text/plain": [
       "<Figure size 600x400 with 1 Axes>"
      ]
     },
     "metadata": {},
     "output_type": "display_data"
    }
   ],
   "source": [
    "plot_map = {\n",
    "    \"treat\": {\n",
    "        \"mask\": mask_treat,\n",
    "        \"color\": \"blue\"\n",
    "    },\n",
    "    \"control\": {\n",
    "        \"mask\": mask_control,\n",
    "        \"color\": \"orange\"\n",
    "    }\n",
    "}\n",
    "\n",
    "make_hist(nsw_stacked, plot_map, \"Propensity score\")"
   ]
  },
  {
   "cell_type": "markdown",
   "metadata": {},
   "source": [
    "A note on assessing balance\n",
    "- the propensity score is a nice summary of the balance, but makes assumptions about the functional form \n",
    "- common support -- see the assumptions for ATE (?)\n",
    "- alternatively, we can plot differences in means, normalized variances and overlap in the tails to compare the groups\n",
    "\n",
    ">Unlike CIA, the common support requirement is testable by simply plotting histograms or summarizing the data. Here we do that two ways: by looking at the summary statistics and by looking at a histogram. Let’s start with looking at a distribution in table form before looking at the histogram.\n",
    "\n",
    "\n",
    "\n",
    "note that independence $\\Rightarrow$ balance, so NOT balance $\\Rightarrow$ NOT independence. but balance is of course not sufficient for independence."
   ]
  },
  {
   "cell_type": "markdown",
   "metadata": {},
   "source": [
    "So we have this huge imbalance. How can we fix it? "
   ]
  },
  {
   "cell_type": "markdown",
   "metadata": {},
   "source": [
    "\n",
    "### Propensity score theorem\n",
    "Assumptions\n",
    "- conditional independence -- $(Y^1, Y^0) \\perp\\!\\!\\!\\perp D | X $\n",
    "- common support, so that we can estimate $E[Y^i | X_i = x]$ for all $x$ and for all $i$\n",
    "\n",
    "Implication: conditioning on the propensity score is enough to recover the ATE $E[\\delta_i (X_i)]$. Common support is necessary in order to estimate the propensity score (why exactly?), and conditional independence is necessary for the propensity score to be sufficient for controlling for all confounding.\n",
    "\n",
    "Relation to the BLUE theorem in linear regression:\n",
    "- conditioning on all the relevant indepdendent variables is enough to give you an unbiased estimate of $\\beta$\n",
    "- but, moreover, we have collapsed the matrix of Xs into a single number\n",
    "\n",
    "**How can we use the propensity score**\n",
    "- Reweighting \n",
    "- Subclassification\n",
    "- Matching on the propensity score \n",
    "\n",
    "Imbens/Rubin prefer subclassification over reweighting because \n",
    "- propensity score is estimated with noise, and this enters the denominator in the reweighting schemes, creating bias \n",
    "- subclassification has smaller sampling variance because it smoothes over extreme values of the propensity score\n"
   ]
  },
  {
   "cell_type": "markdown",
   "metadata": {},
   "source": [
    "We'll match on the log odds ratio instead of the propensity score directly"
   ]
  },
  {
   "cell_type": "code",
   "execution_count": 743,
   "metadata": {},
   "outputs": [],
   "source": [
    "pscore = nsw_stacked.loc[:, \"pscore\"].copy()\n",
    "lps = np.log(pscore / (1 - pscore))\n",
    "nsw_stacked.loc[:, \"lps\"] = lps"
   ]
  },
  {
   "cell_type": "markdown",
   "metadata": {},
   "source": [
    "### Matching on the propensity score"
   ]
  },
  {
   "cell_type": "code",
   "execution_count": 744,
   "metadata": {},
   "outputs": [],
   "source": [
    "\n",
    "df_treated = nsw_stacked.loc[mask_treat, :]\n",
    "df_controls = nsw_stacked.loc[mask_control, :]\n",
    "\n",
    "\n",
    "assert df_treated.index.is_unique\n",
    "assert df_controls.index.is_unique\n",
    "\n",
    "df_treated = df_treated.reset_index()\n",
    "df_controls = df_controls.reset_index()"
   ]
  },
  {
   "cell_type": "code",
   "execution_count": 745,
   "metadata": {},
   "outputs": [
    {
     "data": {
      "text/plain": [
       "(3856, 2)"
      ]
     },
     "metadata": {},
     "output_type": "display_data"
    }
   ],
   "source": [
    "# we'll use the indexes for tracking the matches\n",
    "treated = df_treated.loc[:, [\"index\", \"lps\"]].to_numpy() # we'll use the index to keep track of the \n",
    "controls = df_controls.loc[:, [\"index\", \"lps\"]].to_numpy()\n",
    "\n",
    "# sort from highest to lowest lps\n",
    "treated = treated[treated[:, 1].argsort()[::-1]] #https://stackoverflow.com/questions/26984414/efficiently-sorting-a-numpy-array-in-descending-order\n",
    "\n",
    "display(controls.shape)"
   ]
  },
  {
   "cell_type": "code",
   "execution_count": 746,
   "metadata": {},
   "outputs": [],
   "source": [
    "# matching without replacement\n",
    "matched = []\n",
    "k = 1 # number of matched control units\n",
    "for idx_treat in range(N_treat):\n",
    "    distance = (treated[idx_treat, 1] - controls[:, 1])**2\n",
    "    idx_min = np.argsort(distance)[:k]  # index of the min \n",
    "    idx_ctrl = controls[idx_min][:, 0] # index of the matched control\n",
    "\n",
    "    # update the pool of controls: drop the matched unit\n",
    "    mask = np.full(distance.shape, True)\n",
    "    mask[idx_min] = False\n",
    "    controls = controls[mask, ...]\n",
    "    \n",
    "    # add the matched control index to matched_controls\n",
    "    # matched += [(int(x), idx_treat) ]\n",
    "    matched += [(int(x), idx_treat) for x in idx_ctrl]"
   ]
  },
  {
   "cell_type": "code",
   "execution_count": 747,
   "metadata": {},
   "outputs": [
    {
     "data": {
      "text/plain": [
       "185"
      ]
     },
     "metadata": {},
     "output_type": "display_data"
    },
    {
     "data": {
      "text/plain": [
       "(185, 17)"
      ]
     },
     "metadata": {},
     "output_type": "display_data"
    }
   ],
   "source": [
    "matched = pd.DataFrame(np.array(matched), columns=[\"idx_ctrl\", \"idx_treat\"])\n",
    "mask_pscore_control = df_controls[\"index\"].isin(matched[\"idx_ctrl\"]) \n",
    "display(sum(mask_pscore_control))\n",
    "display(df_treated.shape)"
   ]
  },
  {
   "cell_type": "code",
   "execution_count": 748,
   "metadata": {},
   "outputs": [
    {
     "data": {
      "text/html": [
       "<div>\n",
       "<style scoped>\n",
       "    .dataframe tbody tr th:only-of-type {\n",
       "        vertical-align: middle;\n",
       "    }\n",
       "\n",
       "    .dataframe tbody tr th {\n",
       "        vertical-align: top;\n",
       "    }\n",
       "\n",
       "    .dataframe thead th {\n",
       "        text-align: right;\n",
       "    }\n",
       "</style>\n",
       "<table border=\"1\" class=\"dataframe\">\n",
       "  <thead>\n",
       "    <tr style=\"text-align: right;\">\n",
       "      <th></th>\n",
       "      <th>pscore</th>\n",
       "      <th>age</th>\n",
       "      <th>nodegree</th>\n",
       "      <th>earn75</th>\n",
       "    </tr>\n",
       "  </thead>\n",
       "  <tbody>\n",
       "    <tr>\n",
       "      <th>count</th>\n",
       "      <td>185.000000</td>\n",
       "      <td>185.000000</td>\n",
       "      <td>185.000000</td>\n",
       "      <td>185.000000</td>\n",
       "    </tr>\n",
       "    <tr>\n",
       "      <th>mean</th>\n",
       "      <td>0.298792</td>\n",
       "      <td>25.545946</td>\n",
       "      <td>0.616216</td>\n",
       "      <td>1781.612793</td>\n",
       "    </tr>\n",
       "    <tr>\n",
       "      <th>std</th>\n",
       "      <td>0.218909</td>\n",
       "      <td>8.018274</td>\n",
       "      <td>0.487626</td>\n",
       "      <td>3396.027588</td>\n",
       "    </tr>\n",
       "    <tr>\n",
       "      <th>min</th>\n",
       "      <td>0.001062</td>\n",
       "      <td>16.000000</td>\n",
       "      <td>0.000000</td>\n",
       "      <td>0.000000</td>\n",
       "    </tr>\n",
       "    <tr>\n",
       "      <th>25%</th>\n",
       "      <td>0.132049</td>\n",
       "      <td>19.000000</td>\n",
       "      <td>0.000000</td>\n",
       "      <td>0.000000</td>\n",
       "    </tr>\n",
       "    <tr>\n",
       "      <th>50%</th>\n",
       "      <td>0.259063</td>\n",
       "      <td>24.000000</td>\n",
       "      <td>1.000000</td>\n",
       "      <td>0.000000</td>\n",
       "    </tr>\n",
       "    <tr>\n",
       "      <th>75%</th>\n",
       "      <td>0.411690</td>\n",
       "      <td>30.000000</td>\n",
       "      <td>1.000000</td>\n",
       "      <td>2225.371094</td>\n",
       "    </tr>\n",
       "    <tr>\n",
       "      <th>max</th>\n",
       "      <td>0.923979</td>\n",
       "      <td>55.000000</td>\n",
       "      <td>1.000000</td>\n",
       "      <td>20268.240234</td>\n",
       "    </tr>\n",
       "  </tbody>\n",
       "</table>\n",
       "</div>"
      ],
      "text/plain": [
       "           pscore         age    nodegree        earn75\n",
       "count  185.000000  185.000000  185.000000    185.000000\n",
       "mean     0.298792   25.545946    0.616216   1781.612793\n",
       "std      0.218909    8.018274    0.487626   3396.027588\n",
       "min      0.001062   16.000000    0.000000      0.000000\n",
       "25%      0.132049   19.000000    0.000000      0.000000\n",
       "50%      0.259063   24.000000    1.000000      0.000000\n",
       "75%      0.411690   30.000000    1.000000   2225.371094\n",
       "max      0.923979   55.000000    1.000000  20268.240234"
      ]
     },
     "execution_count": 748,
     "metadata": {},
     "output_type": "execute_result"
    }
   ],
   "source": [
    "df_controls.loc[mask_pscore_control, vars_to_compare].describe()"
   ]
  },
  {
   "cell_type": "code",
   "execution_count": 749,
   "metadata": {},
   "outputs": [
    {
     "name": "stdout",
     "output_type": "stream",
     "text": [
      "Estimated treatment effect: 1109.70\n"
     ]
    }
   ],
   "source": [
    "y1 = df_treated.loc[:, yvar].mean()\n",
    "y0 = df_controls.loc[mask_pscore_control, yvar].mean()\n",
    "te_pscore = y1 - y0\n",
    "print(f\"Estimated treatment effect: {te_pscore:.2f}\")\n"
   ]
  },
  {
   "cell_type": "markdown",
   "metadata": {},
   "source": [
    "#### Differences to DW2002\n",
    "\n",
    "- We get closer to the true causal effect, but are still quite far away\n",
    "- DW2002 performed much better still.\n",
    "- Our estimate is much smaller than theirs. \n",
    "- control group has different means across the variables displayed above, indicating that they are different set from the control units in DW2002\n",
    "- other things\n",
    "    - no indication here: https://cameron.econ.ucdavis.edu/mmabook/mma25p1treatment.txt\n",
    "    - double-checked the propensity score in R, but the formula should be correct\n"
   ]
  },
  {
   "cell_type": "markdown",
   "metadata": {},
   "source": [
    "### Subclassification on the propensity score (unfinished)"
   ]
  },
  {
   "cell_type": "markdown",
   "metadata": {},
   "source": [
    "The idea is to create blocks of observations in the treatment and control group that have similar propensity scores. Then, take the difference in the outcome within those groups, and average the differences across groups to get an estimate of the ATE. In other words, we assume that there as a block-randomized experiment where treatment assignment was random within each block.\n",
    "\n",
    "How do we find the blocks? Imbens/Rubin (chapter 17.3) propose the following algorithm\n",
    "1. Start with a single block, with boundaries equal to 0 and 1\n",
    "2. Compute 2 statistics to decide whether the block should be further splitted or not:\n",
    "    - Compute t-statistic testing the H0 that the average value of the propensity score is the same in treatment and control groups. \n",
    "    - Compute the number of observations in treatment and control groups that would remain in two new blocks created by splitting the current block at the median of the propensity score \n",
    "3. While t-statistic > threshold and new block sizes sufficiently large:\n",
    "    - Split the block\n",
    "    - Update the statistics above \n",
    "\n",
    "\n",
    "We need to define the following parameters\n",
    "- t_max = 1.96\n",
    "- the minimum number of treated or control units in a new block\n",
    "- the minimum number of units (T + C) in a new block"
   ]
  },
  {
   "cell_type": "code",
   "execution_count": 27,
   "metadata": {},
   "outputs": [],
   "source": [
    "t_max = 1.96 \n",
    "N_min1 = 3 \n",
    "N_min2 = 2"
   ]
  },
  {
   "cell_type": "code",
   "execution_count": 28,
   "metadata": {},
   "outputs": [
    {
     "data": {
      "text/html": [
       "<div>\n",
       "<style scoped>\n",
       "    .dataframe tbody tr th:only-of-type {\n",
       "        vertical-align: middle;\n",
       "    }\n",
       "\n",
       "    .dataframe tbody tr th {\n",
       "        vertical-align: top;\n",
       "    }\n",
       "\n",
       "    .dataframe thead th {\n",
       "        text-align: right;\n",
       "    }\n",
       "</style>\n",
       "<table border=\"1\" class=\"dataframe\">\n",
       "  <thead>\n",
       "    <tr style=\"text-align: right;\">\n",
       "      <th></th>\n",
       "      <th>treat</th>\n",
       "      <th>age</th>\n",
       "      <th>educ</th>\n",
       "      <th>black</th>\n",
       "      <th>hisp</th>\n",
       "      <th>marr</th>\n",
       "      <th>nodegree</th>\n",
       "      <th>earn74</th>\n",
       "      <th>earn75</th>\n",
       "      <th>earn78</th>\n",
       "      <th>randomised</th>\n",
       "      <th>unemp74</th>\n",
       "      <th>unemp75</th>\n",
       "      <th>pscore</th>\n",
       "    </tr>\n",
       "  </thead>\n",
       "  <tbody>\n",
       "    <tr>\n",
       "      <th>count</th>\n",
       "      <td>4041.000000</td>\n",
       "      <td>4041.000000</td>\n",
       "      <td>4041.000000</td>\n",
       "      <td>4041.00000</td>\n",
       "      <td>4041.000000</td>\n",
       "      <td>4041.000000</td>\n",
       "      <td>4041.000000</td>\n",
       "      <td>4041.000000</td>\n",
       "      <td>4041.000000</td>\n",
       "      <td>4041.000000</td>\n",
       "      <td>4041.000000</td>\n",
       "      <td>4041.000000</td>\n",
       "      <td>4041.000000</td>\n",
       "      <td>4041.000000</td>\n",
       "    </tr>\n",
       "    <tr>\n",
       "      <th>mean</th>\n",
       "      <td>0.045781</td>\n",
       "      <td>26.302649</td>\n",
       "      <td>10.976986</td>\n",
       "      <td>0.27419</td>\n",
       "      <td>0.122494</td>\n",
       "      <td>0.395942</td>\n",
       "      <td>0.514477</td>\n",
       "      <td>5473.653809</td>\n",
       "      <td>4194.241699</td>\n",
       "      <td>8144.358398</td>\n",
       "      <td>0.045781</td>\n",
       "      <td>0.374660</td>\n",
       "      <td>0.315516</td>\n",
       "      <td>0.045296</td>\n",
       "    </tr>\n",
       "    <tr>\n",
       "      <th>std</th>\n",
       "      <td>0.209035</td>\n",
       "      <td>8.930160</td>\n",
       "      <td>2.245505</td>\n",
       "      <td>0.44616</td>\n",
       "      <td>0.327897</td>\n",
       "      <td>0.489112</td>\n",
       "      <td>0.499852</td>\n",
       "      <td>7058.390625</td>\n",
       "      <td>5671.688477</td>\n",
       "      <td>7938.381348</td>\n",
       "      <td>0.209035</td>\n",
       "      <td>0.484095</td>\n",
       "      <td>0.464779</td>\n",
       "      <td>0.132632</td>\n",
       "    </tr>\n",
       "    <tr>\n",
       "      <th>min</th>\n",
       "      <td>0.000000</td>\n",
       "      <td>16.000000</td>\n",
       "      <td>0.000000</td>\n",
       "      <td>0.00000</td>\n",
       "      <td>0.000000</td>\n",
       "      <td>0.000000</td>\n",
       "      <td>0.000000</td>\n",
       "      <td>0.000000</td>\n",
       "      <td>0.000000</td>\n",
       "      <td>0.000000</td>\n",
       "      <td>0.000000</td>\n",
       "      <td>0.000000</td>\n",
       "      <td>0.000000</td>\n",
       "      <td>0.001061</td>\n",
       "    </tr>\n",
       "    <tr>\n",
       "      <th>25%</th>\n",
       "      <td>0.000000</td>\n",
       "      <td>19.000000</td>\n",
       "      <td>10.000000</td>\n",
       "      <td>0.00000</td>\n",
       "      <td>0.000000</td>\n",
       "      <td>0.000000</td>\n",
       "      <td>0.000000</td>\n",
       "      <td>0.000000</td>\n",
       "      <td>0.000000</td>\n",
       "      <td>196.537598</td>\n",
       "      <td>0.000000</td>\n",
       "      <td>0.000000</td>\n",
       "      <td>0.000000</td>\n",
       "      <td>0.002140</td>\n",
       "    </tr>\n",
       "    <tr>\n",
       "      <th>50%</th>\n",
       "      <td>0.000000</td>\n",
       "      <td>24.000000</td>\n",
       "      <td>11.000000</td>\n",
       "      <td>0.00000</td>\n",
       "      <td>0.000000</td>\n",
       "      <td>0.000000</td>\n",
       "      <td>1.000000</td>\n",
       "      <td>1775.095947</td>\n",
       "      <td>1620.241943</td>\n",
       "      <td>6408.950195</td>\n",
       "      <td>0.000000</td>\n",
       "      <td>0.000000</td>\n",
       "      <td>0.000000</td>\n",
       "      <td>0.005382</td>\n",
       "    </tr>\n",
       "    <tr>\n",
       "      <th>75%</th>\n",
       "      <td>0.000000</td>\n",
       "      <td>31.000000</td>\n",
       "      <td>12.000000</td>\n",
       "      <td>1.00000</td>\n",
       "      <td>0.000000</td>\n",
       "      <td>1.000000</td>\n",
       "      <td>1.000000</td>\n",
       "      <td>9708.166992</td>\n",
       "      <td>6409.354980</td>\n",
       "      <td>13549.269531</td>\n",
       "      <td>0.000000</td>\n",
       "      <td>1.000000</td>\n",
       "      <td>1.000000</td>\n",
       "      <td>0.015611</td>\n",
       "    </tr>\n",
       "    <tr>\n",
       "      <th>max</th>\n",
       "      <td>1.000000</td>\n",
       "      <td>55.000000</td>\n",
       "      <td>18.000000</td>\n",
       "      <td>1.00000</td>\n",
       "      <td>1.000000</td>\n",
       "      <td>1.000000</td>\n",
       "      <td>1.000000</td>\n",
       "      <td>35040.070312</td>\n",
       "      <td>25243.550781</td>\n",
       "      <td>60307.929688</td>\n",
       "      <td>1.000000</td>\n",
       "      <td>1.000000</td>\n",
       "      <td>1.000000</td>\n",
       "      <td>0.938455</td>\n",
       "    </tr>\n",
       "  </tbody>\n",
       "</table>\n",
       "</div>"
      ],
      "text/plain": [
       "             treat          age         educ       black         hisp  \\\n",
       "count  4041.000000  4041.000000  4041.000000  4041.00000  4041.000000   \n",
       "mean      0.045781    26.302649    10.976986     0.27419     0.122494   \n",
       "std       0.209035     8.930160     2.245505     0.44616     0.327897   \n",
       "min       0.000000    16.000000     0.000000     0.00000     0.000000   \n",
       "25%       0.000000    19.000000    10.000000     0.00000     0.000000   \n",
       "50%       0.000000    24.000000    11.000000     0.00000     0.000000   \n",
       "75%       0.000000    31.000000    12.000000     1.00000     0.000000   \n",
       "max       1.000000    55.000000    18.000000     1.00000     1.000000   \n",
       "\n",
       "              marr     nodegree        earn74        earn75        earn78  \\\n",
       "count  4041.000000  4041.000000   4041.000000   4041.000000   4041.000000   \n",
       "mean      0.395942     0.514477   5473.653809   4194.241699   8144.358398   \n",
       "std       0.489112     0.499852   7058.390625   5671.688477   7938.381348   \n",
       "min       0.000000     0.000000      0.000000      0.000000      0.000000   \n",
       "25%       0.000000     0.000000      0.000000      0.000000    196.537598   \n",
       "50%       0.000000     1.000000   1775.095947   1620.241943   6408.950195   \n",
       "75%       1.000000     1.000000   9708.166992   6409.354980  13549.269531   \n",
       "max       1.000000     1.000000  35040.070312  25243.550781  60307.929688   \n",
       "\n",
       "        randomised      unemp74      unemp75       pscore  \n",
       "count  4041.000000  4041.000000  4041.000000  4041.000000  \n",
       "mean      0.045781     0.374660     0.315516     0.045296  \n",
       "std       0.209035     0.484095     0.464779     0.132632  \n",
       "min       0.000000     0.000000     0.000000     0.001061  \n",
       "25%       0.000000     0.000000     0.000000     0.002140  \n",
       "50%       0.000000     0.000000     0.000000     0.005382  \n",
       "75%       0.000000     1.000000     1.000000     0.015611  \n",
       "max       1.000000     1.000000     1.000000     0.938455  "
      ]
     },
     "execution_count": 28,
     "metadata": {},
     "output_type": "execute_result"
    }
   ],
   "source": [
    "nsw_stacked.head()\n",
    "nsw_stacked.describe()"
   ]
  },
  {
   "cell_type": "code",
   "execution_count": 19,
   "metadata": {},
   "outputs": [
    {
     "data": {
      "text/plain": [
       "176.0"
      ]
     },
     "execution_count": 19,
     "metadata": {},
     "output_type": "execute_result"
    }
   ],
   "source": [
    "# we'll use the linearized propensity score instead \n",
    "# nsw_stacked[\"lps\"] = np.log(nsw_stacked[\"pscore\"])\n",
    "data = nsw_stacked.loc[:, [\"treat\", \"lps\"]].to_numpy()\n",
    "b = np.ones((data.shape[0],1))\n",
    "data = np.c_[data, b]\n",
    "\n",
    "# compute the t-stat\n",
    "W = data[:, 0] #treatment indicator\n",
    "\n",
    "def summarise(a, block, W):\n",
    "    \"\"\"In a block for group W, compute:\n",
    "    - the average propensity score\n",
    "    - the number of observations\n",
    "    - the within-group variance\n",
    "    \"\"\"\n",
    "    # TODO: there are assumptions on which columns are which variable\n",
    "    # perhaps just use vectors directly?\n",
    "\n",
    "    N = np.sum(block * W)\n",
    "    l = 1 / N * np.transpose(a[:, 1] * block).dot(W)\n",
    "    sum_of_squared_diff = np.sum((a[:, 2] * block - l)**2)\n",
    "\n",
    "    return l, N, sum_of_squared_diff\n",
    "\n",
    "l_1, N_1, s2_1 = summarise(data, block=data[:, 2], W=W)\n",
    "l_0, N_0, s2_0 = summarise(data, block=data[:, 2], W=np.ones(W.shape) - W)\n",
    "s_hat = 1 / (N_1 + N_0 - 2) * (s2_0 + s2_1)\n",
    "\n",
    "t_stat = (l_1 - l_0) / (np.sqrt(s_hat * (1 / N_1 + 1 / N_0)))\n",
    "\n",
    "# count number of observation in a block if split by the median propensity score \n",
    "mid = np.median(data[:, 1])\n",
    "block_a = data[:, 1] <= mid \n",
    "block_b = data[:, 1] > mid \n",
    "\n",
    "np.sum(data[:, 2] * block_a * W )\n",
    "np.sum(data[:, 2] * block_a * (np.ones(W.shape) - W) )\n",
    "\n",
    "np.sum(data[:, 2] * block_b * W )\n",
    "# np.sum(data[:, 2] * block_b * (np.ones(W.shape) - W) )\n"
   ]
  },
  {
   "cell_type": "code",
   "execution_count": 25,
   "metadata": {},
   "outputs": [],
   "source": [
    "# # matching without replacement -- working code\n",
    "# matched = []\n",
    "# for idx_treat in range(N_treat):\n",
    "#     distance = (treated[idx_treat, 1] - controls[:, 1])**2\n",
    "#     idx_min = np.argmin(distance) # index of the min \n",
    "#     idx_ctrl = controls[idx_min][0] # index of the matched control\n",
    "#     # update the pool of controls: drop the matched unit\n",
    "#     mask = np.full(distance.shape, True)\n",
    "#     mask[idx_min] = False\n",
    "#     controls = controls[mask, ...]\n",
    "#     # add the matched control index to matched_controls\n",
    "#     matched.append((int(idx_ctrl), idx_treat))"
   ]
  }
 ],
 "metadata": {
  "kernelspec": {
   "display_name": ".venv",
   "language": "python",
   "name": "python3"
  },
  "language_info": {
   "codemirror_mode": {
    "name": "ipython",
    "version": 3
   },
   "file_extension": ".py",
   "mimetype": "text/x-python",
   "name": "python",
   "nbconvert_exporter": "python",
   "pygments_lexer": "ipython3",
   "version": "3.11.4"
  },
  "orig_nbformat": 4
 },
 "nbformat": 4,
 "nbformat_minor": 2
}
